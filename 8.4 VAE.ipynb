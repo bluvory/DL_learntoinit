{
 "cells": [
  {
   "cell_type": "code",
   "execution_count": 2,
   "metadata": {},
   "outputs": [],
   "source": [
    "import keras\n",
    "from keras import layers\n",
    "from keras import backend as K\n",
    "from keras.models import Model\n",
    "import numpy as np\n",
    "\n",
    "img_shape = (28,28,1)\n",
    "batch_size = 16\n",
    "latent_dim = 2  # 잠재 공간의 차원: 2D 평면\n",
    "\n",
    "input_img = keras.Input(shape=img_shape)\n",
    "\n",
    "x = layers.Conv2D(32,3,padding='same',activation='relu')(input_img)\n",
    "x = layers.Conv2D(64,3,padding='same',activation='relu',strides=(2,2))(x)\n",
    "x = layers.Conv2D(64,3,padding='same',activation='relu')(x)\n",
    "x = layers.Conv2D(64,3,padding='same',activation='relu')(x)\n",
    "shape_before_flattening = K.int_shape(x)\n",
    "\n",
    "x = layers.Flatten()(x)\n",
    "x = layers.Dense(32, activation='relu')(x)\n",
    "\n",
    "# 입력이미지는 2개의 파라미터로 인코딩\n",
    "z_mean = layers.Dense(latent_dim)(x)\n",
    "z_log_var = layers.Dense(latent_dim)(x)"
   ]
  },
  {
   "cell_type": "code",
   "execution_count": 5,
   "metadata": {},
   "outputs": [],
   "source": [
    "# 잠재 공간 샘플링 함수\n",
    "\n",
    "def sampling(args):\n",
    "    z_mean, z_log_var = args\n",
    "    epsilon = K.random_normal(shape=(K.shape(z_mean)[0], latent_dim), mean=0., stddev=1.)\n",
    "    return z_mean + K.exp(0.5*z_log_var)*epsilon\n",
    "\n",
    "z = layers.Lambda(sampling)([z_mean, z_log_var])"
   ]
  },
  {
   "cell_type": "code",
   "execution_count": 7,
   "metadata": {},
   "outputs": [],
   "source": [
    "# 잠재 공간 포인트를 이미지로 매핑하는 VAE 디코더 네트워크\n",
    "\n",
    "# input에 z 주입\n",
    "decoder_input = layers.Input(K.int_shape(z)[1:])\n",
    "\n",
    "# 입력을 업샘플링\n",
    "x = layers.Dense(np.prod(shape_before_flattening[1:]), activation='relu')(decoder_input)\n",
    "\n",
    "# 인코더 모델의 마지막 Flatten 층 직전의 특성 맵과 같은 크기를 가진 특성 맵으로 z의 크기를 바꿉니다\n",
    "x = layers.Reshape(shape_before_flattening[1:])(x)\n",
    "\n",
    "# Conv2DTranspose층과 Conv2D층을 사용하여 z를 원본 입력 이미지와 같은 크기와 특성 맵으로 디코딩\n",
    "x = layers.Conv2DTranspose(32, 3, padding='same', activation='relu', strides=(2,2))(x)\n",
    "x = layers.Conv2D(1, 3, padding='same', activation='sigmoid')(x)\n",
    "\n",
    "# decoder_input을 디코딩된 이미지로 변환하는 디코더 모델의 객체를 만듭니다\n",
    "decoder = Model(decoder_input, x)\n",
    "\n",
    "# 모델에 z를 주입하면 디코딩된 z를 출력\n",
    "z_decoded = decoder(z)"
   ]
  },
  {
   "cell_type": "code",
   "execution_count": null,
   "metadata": {},
   "outputs": [],
   "source": [
    "# VAE 손실을 계산하기 위해 직접 만든 층\n",
    "# loss(y_ture, y_pred) 형태는 VAE의 이중 손실에 맞지 않다\n",
    "\n",
    "class CustomVariationalLayer(keras.layers.Layer):\n",
    "    \n",
    "    def vae_loss(self, x, z_decoded):\n",
    "        "
   ]
  },
  {
   "cell_type": "code",
   "execution_count": null,
   "metadata": {},
   "outputs": [],
   "source": []
  },
  {
   "cell_type": "code",
   "execution_count": null,
   "metadata": {},
   "outputs": [],
   "source": []
  },
  {
   "cell_type": "code",
   "execution_count": null,
   "metadata": {},
   "outputs": [],
   "source": []
  },
  {
   "cell_type": "code",
   "execution_count": null,
   "metadata": {},
   "outputs": [],
   "source": []
  },
  {
   "cell_type": "code",
   "execution_count": null,
   "metadata": {},
   "outputs": [],
   "source": []
  },
  {
   "cell_type": "code",
   "execution_count": null,
   "metadata": {},
   "outputs": [],
   "source": []
  }
 ],
 "metadata": {
  "kernelspec": {
   "display_name": "Python 3",
   "language": "python",
   "name": "python3"
  },
  "language_info": {
   "codemirror_mode": {
    "name": "ipython",
    "version": 3
   },
   "file_extension": ".py",
   "mimetype": "text/x-python",
   "name": "python",
   "nbconvert_exporter": "python",
   "pygments_lexer": "ipython3",
   "version": "3.7.7"
  }
 },
 "nbformat": 4,
 "nbformat_minor": 4
}
